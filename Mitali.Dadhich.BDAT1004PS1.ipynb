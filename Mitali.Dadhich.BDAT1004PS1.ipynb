{
 "cells": [
  {
   "cell_type": "markdown",
   "id": "7ecdbc50",
   "metadata": {},
   "source": [
    "# Problem set 1"
   ]
  },
  {
   "cell_type": "markdown",
   "id": "1919fea9",
   "metadata": {},
   "source": [
    "# Question 1\n",
    "What data type is each of the following (evaluate where necessary)?"
   ]
  },
  {
   "cell_type": "code",
   "execution_count": 1,
   "id": "e409bed3",
   "metadata": {},
   "outputs": [
    {
     "name": "stdout",
     "output_type": "stream",
     "text": [
      "<class 'int'>\n",
      "<class 'float'>\n",
      "<class 'bool'>\n",
      "<class 'str'>\n",
      "<class 'int'>\n",
      "<class 'str'>\n",
      "<class 'str'>\n",
      "<class 'float'>\n",
      "<class 'int'>\n",
      "<class 'set'>\n",
      "<class 'bool'>\n"
     ]
    }
   ],
   "source": [
    "print(type(5))\n",
    "print(type(5.0))\n",
    "print(type(5 > 1))\n",
    "print(type('5'))\n",
    "print(type(5*2))\n",
    "print(type('5'*2))\n",
    "print(type('5'+'2'))\n",
    "print(type(5/2))\n",
    "print(type(5%2))\n",
    "print(type({5,2,1}))\n",
    "print(type(5==3))\n"
   ]
  },
  {
   "cell_type": "code",
   "execution_count": 2,
   "id": "0ce5d37b",
   "metadata": {},
   "outputs": [
    {
     "ename": "SyntaxError",
     "evalue": "invalid syntax. Perhaps you forgot a comma? (2046701043.py, line 1)",
     "output_type": "error",
     "traceback": [
      "\u001b[1;36m  Cell \u001b[1;32mIn[2], line 1\u001b[1;36m\u001b[0m\n\u001b[1;33m    print(type(pi(the number)))\u001b[0m\n\u001b[1;37m                  ^\u001b[0m\n\u001b[1;31mSyntaxError\u001b[0m\u001b[1;31m:\u001b[0m invalid syntax. Perhaps you forgot a comma?\n"
     ]
    }
   ],
   "source": [
    "print(type(pi(the number)))"
   ]
  },
  {
   "cell_type": "markdown",
   "id": "0d4883d0",
   "metadata": {},
   "source": [
    "# Question 2\n",
    "Write (and evaluate) python expressions that answer these questions:\n",
    "a. How many letters are there in 'Supercalifragilisticexpialidocious'?  \n",
    "b. Does 'Supercalifragilisticexpialidocious' contain 'ice' as a substring?   \n",
    "c. Which of the following words is the longest: \n",
    "Supercalifragilisticexpialidocious, Honorificabilitudinitatibus, or \n",
    "Bababadalgharaghtakamminarronnkonn?   \n",
    "d. Which composer comes first in the dictionary: 'Berlioz', 'Borodin', 'Brian', \n",
    "'Bartok', 'Bellini', 'Buxtehude', 'Bernstein'. Which one comes last?"
   ]
  },
  {
   "cell_type": "code",
   "execution_count": 3,
   "id": "f356b898",
   "metadata": {},
   "outputs": [
    {
     "name": "stdout",
     "output_type": "stream",
     "text": [
      "34\n"
     ]
    }
   ],
   "source": [
    "#a\n",
    "str = 'Supercalifragilisticexpialidocious'\n",
    "print(len(str))"
   ]
  },
  {
   "cell_type": "code",
   "execution_count": 4,
   "id": "294d8c2b",
   "metadata": {},
   "outputs": [
    {
     "name": "stdout",
     "output_type": "stream",
     "text": [
      "Yes ice is in string \n"
     ]
    }
   ],
   "source": [
    "#b\n",
    "if('ice' in str):\n",
    "    print('Yes ' + 'ice ' + 'is in string ')\n",
    "else:\n",
    "    print('No '+'ice' + 'is not in string')"
   ]
  },
  {
   "cell_type": "code",
   "execution_count": 5,
   "id": "dbbaaf06",
   "metadata": {},
   "outputs": [
    {
     "name": "stdout",
     "output_type": "stream",
     "text": [
      "Supercalifragilisticexpialidocious\n"
     ]
    }
   ],
   "source": [
    "#c\n",
    "s = ['Supercalifragilisticexpialidocious', 'Honorificabilitudinitatibus','Bababadalgharaghtakamminarronnkonn']\n",
    "p = max(s)\n",
    "print(p)"
   ]
  },
  {
   "cell_type": "code",
   "execution_count": 7,
   "id": "73475b1e",
   "metadata": {},
   "outputs": [
    {
     "name": "stdout",
     "output_type": "stream",
     "text": [
      "First Composer: 'Bartok', Last Composer: 'Buxtehude'.\n"
     ]
    }
   ],
   "source": [
    "#d\n",
    "lst = ['Berlioz', 'Borodin', 'Brian','Bartok', 'Bellini', 'Buxtehude', 'Bernstein']\n",
    "lc = max(lst)\n",
    "fc = min(lst)\n",
    "print (f\"First Composer: '{fc}', Last Composer: '{lc}'.\")\n",
    "     "
   ]
  },
  {
   "cell_type": "markdown",
   "id": "f4421ed1",
   "metadata": {},
   "source": [
    "# Question 3\n",
    "Implement function triangleArea(a,b,c) that takes as input the lengths of the 3 sides of a triangle and returns the area of the triangle. By Heron's formula, the area of a triangle with side lengths a, b, and c is s(s - a)(s -b)(s -c), where s = (a+b+c)/2.\n",
    "\n",
    "triangleArea(2,2,2)  \n",
    "1.7320508075688772"
   ]
  },
  {
   "cell_type": "code",
   "execution_count": 10,
   "id": "f7ae9cff",
   "metadata": {},
   "outputs": [
    {
     "name": "stdout",
     "output_type": "stream",
     "text": [
      "Area of Triangle is : 1.7320508075688772\n"
     ]
    }
   ],
   "source": [
    "import math # use math function for methematical calculation \n",
    "\n",
    "def triangleArea(a,b,c):\n",
    "    s = (a+b+c)/2\n",
    "    area = math.sqrt(s*(s-a)*(s-b)*(s-c))\n",
    "    return area\n",
    "A = triangleArea(2,2,2)\n",
    "print(\"Area of Triangle is :\",A)"
   ]
  },
  {
   "cell_type": "markdown",
   "id": "928eaa16",
   "metadata": {},
   "source": [
    "# Question 4\n",
    "Write a program in python to separate odd and even integers in separate arrays. Go \n",
    "to the editor  \n",
    "Test Data :  \n",
    "Input the number of elements to be stored in the array :5  \n",
    "Input 5 elements in the array :  \n",
    "element - 0 : 25  \n",
    "element - 1 : 47  \n",
    "element - 2 : 42  \n",
    "element - 3 : 56  \n",
    "element - 4 : 32  \n",
    "Expected Output:  \n",
    "The Even elements are:  \n",
    "42 56 32  \n",
    "The Odd elements are :  \n",
    "25 47\n"
   ]
  },
  {
   "cell_type": "code",
   "execution_count": 15,
   "id": "9c52171c",
   "metadata": {},
   "outputs": [
    {
     "name": "stdout",
     "output_type": "stream",
     "text": [
      "enter any number 3\n",
      "enter any number 4\n",
      "enter any number 5\n",
      "enter any number 7\n",
      "enter any number 8\n",
      "Even Numbers : [4, 8]\n",
      "Odd Numbers :  [3, 5, 7]\n"
     ]
    }
   ],
   "source": [
    "lst = []\n",
    "for i in range (0,5):\n",
    "    element = int (input('enter any number '))\n",
    "    lst.append(element)\n",
    "#print(lst)\n",
    "even =[]\n",
    "odd = []\n",
    "for l in (lst):\n",
    "    if(l%2==0):\n",
    "        even.append(l)\n",
    "    else:\n",
    "        odd.append(l)\n",
    "print(\"Even Numbers :\",even)\n",
    "print(\"Odd Numbers : \",odd)"
   ]
  },
  {
   "cell_type": "markdown",
   "id": "a8644d54",
   "metadata": {},
   "source": [
    "# Question 5\n",
    "a. Write a function inside(x,y,x1,y1,x2,y2) that returns True or False \n",
    "depending on whether the point (x,y) lies in the rectangle with lower left \n",
    "corner (x1,y1) and upper right corner (x2,y2).\n"
   ]
  },
  {
   "cell_type": "code",
   "execution_count": 18,
   "id": "07e06f61",
   "metadata": {},
   "outputs": [
    {
     "data": {
      "text/plain": [
       "False"
      ]
     },
     "execution_count": 18,
     "metadata": {},
     "output_type": "execute_result"
    }
   ],
   "source": [
    "#a\n",
    "def inside(x,y,x1,y1,x2,y2):\n",
    "    return x1<x<x2 and y1<y<y2\n",
    "inside(4,7,9,5,2,3)"
   ]
  },
  {
   "cell_type": "code",
   "execution_count": 23,
   "id": "592f7430",
   "metadata": {},
   "outputs": [
    {
     "name": "stdout",
     "output_type": "stream",
     "text": [
      "(1,1) does not lies in both rectangle\n"
     ]
    }
   ],
   "source": [
    "#b\n",
    "# For rectangle 1\n",
    "x,y = 1,1\n",
    "x1,y1 = 0.3,0.5\n",
    "x2,y2 = 1.1,0.7\n",
    "R1= inside(x,y,x1,y1,x2,y2)\n",
    "# For rectangle 2\n",
    "x,y = 1,1\n",
    "X1,Y1 = 0.5,0.2\n",
    "X2,Y2 = 1.1,2\n",
    "R2 = inside(x,y,X1,Y1,X2,Y2)\n",
    "if(R1 and R2 ):\n",
    "    print(\"(1,1) lies in both rectangle\")\n",
    "else:\n",
    "    print(\"(1,1) does not lies in both rectangle\")"
   ]
  },
  {
   "cell_type": "markdown",
   "id": "1a73c8c6",
   "metadata": {},
   "source": [
    "# Question 6\n",
    "16. You can turn a word into pig-Latin using the following two rules (simplified):  \n",
    "• If the word starts with a consonant, move that letter to the end and append \n",
    "'ay'. For example, 'happy' becomes 'appyhay' and 'pencil' becomes 'encilpay'.  \n",
    "• If the word starts with a vowel, simply append 'way' to the end of the word.   \n",
    "For example, 'enter' becomes 'enterway' and 'other' becomes 'otherway' .   \n",
    "For our purposes, there are 5 vowels: a, e, i, o, u (so we count y as a consonant).  \n",
    "Write a function pig() that takes a word (i.e., a string) as input and returns its pig\u0002Latin form. Your function should still work if the input word contains upper case \n",
    "characters. Your output should always be lower case however.   \n",
    "#### >>> pig('happy')  \n",
    "'appyhay'  \n",
    "#### >>> pig('Enter')  \n",
    "'enterway'"
   ]
  },
  {
   "cell_type": "code",
   "execution_count": 15,
   "id": "fc3df1cf",
   "metadata": {},
   "outputs": [
    {
     "name": "stdout",
     "output_type": "stream",
     "text": [
      "appyhay\n",
      "enterway\n"
     ]
    }
   ],
   "source": [
    "vowel = ['a','e','i','o','u']\n",
    "def pig(word):\n",
    "        word=word.lower()\n",
    "        if word[0].lower()in vowel:\n",
    "            word = word + 'way'\n",
    "        else: \n",
    "            a=word[0]\n",
    "            word = word[1:]+ word[0]+'ay'\n",
    "        print(word)\n",
    "pig('happy')\n",
    "pig('Enter')         \n",
    "       \n",
    "         \n",
    "         "
   ]
  },
  {
   "cell_type": "markdown",
   "id": "e80e38e5",
   "metadata": {},
   "source": [
    "# Question 7\n",
    "File bloodtype1.txt records blood-types of patients (A, B, AB, O or OO) at a clinic. \n",
    "Write a function bldcount() that reads the file with name name and reports (i.e., \n",
    "prints) how many patients there are in each bloodtype.\n",
    "####  >>> bldcount('bloodtype.txt')  \n",
    "There are 10 patients of blood type A.  \n",
    "There is one patient of blood type B.  \n",
    "There are 10 patients of blood type AB.  \n",
    "There are 12 patients of blood type O.  \n",
    "There are no patients of blood type OO."
   ]
  },
  {
   "cell_type": "code",
   "execution_count": 22,
   "id": "21be8c2d",
   "metadata": {},
   "outputs": [
    {
     "name": "stdout",
     "output_type": "stream",
     "text": [
      "There are 15 patients of blood type A\n",
      "There is one patient of Blood type B \n",
      "There are 13 patients of blood type AB\n",
      "There are 15 patients of blood type O\n",
      "There are no patient of Blood type OO\n"
     ]
    }
   ],
   "source": [
    "def bldcount(name):\n",
    "    f = open(name,'r')\n",
    "    line = f.readline()\n",
    "    bldtyp = ['A', 'B', 'AB','O','OO']\n",
    "    bld = line.split(\" \")\n",
    "    count = [bld.count(i) for i in bldtyp]              \n",
    "    for i in range(0,len(bldtyp)):\n",
    "        if(count[i] == 1):\n",
    "            print(\"There is one patient of Blood type B \")\n",
    "        elif(count[i] == 0):\n",
    "            print(\"There are no patient of Blood type OO\")\n",
    "        else:\n",
    "               print(\"There are \" + str(count[i]) + \" patients of blood type \" + bldtyp[i])\n",
    "\n",
    "bldcount('bloodtype1.txt')\n",
    "    "
   ]
  },
  {
   "cell_type": "markdown",
   "id": "e71d2f6a",
   "metadata": {},
   "source": [
    "# Question 8\n",
    "Write a function curconv() that takes as input:\n",
    "1. a currency represented using a string (e.g., 'JPY' for the Japanese Yen or \n",
    "'EUR' for the Euro)\n",
    "2. an amount\n",
    "and then converts and returns the amount in US dollars.\n",
    "#### >>> curconv('EUR', 100)\n",
    "122.96544\n",
    "#### >>> curconv('JPY', 100)  \n",
    "1.241401  \n",
    "The currency rates you will need are stored in file currencies.txt:    \n",
    "AUD 1.0345157 Australian Dollar    \n",
    "CHF 1.0237414 Swiss Franc    \n",
    "CNY 0.1550176 Chinese Yuan  \n",
    "DKK 0.1651442 Danish Krone  \n",
    "EUR 1.2296544 Euro  \n",
    "GBP 1.5550989 British Pound  \n",
    "HKD 0.1270207 Hong Kong Dollar  \n",
    "INR 0.0177643 Indian Rupee  \n",
    "JPY 0.01241401 Japanese Yen  \n",
    "MXN 0.0751848 Mexican Peso  \n",
    "MYR 0.3145411 Malaysian Ringgit  \n",
    "NOK 0.1677063 Norwegian Krone  \n",
    "NZD 0.8003591 New Zealand Dollar  \n",
    "PHP 0.0233234 Philippine Peso  \n",
    "SEK 0.148269 Swedish Krona  \n",
    "SGD 0.788871 Singapore Dollar  \n",
    "THB 0.0313789 Thai Baht"
   ]
  },
  {
   "cell_type": "code",
   "execution_count": 2,
   "id": "d6c8bff4",
   "metadata": {},
   "outputs": [
    {
     "name": "stdout",
     "output_type": "stream",
     "text": [
      "122.96544\n",
      "1.241401\n"
     ]
    }
   ],
   "source": [
    "def curconv(currcy,amnt):\n",
    "    x = open(\"currencies.txt\")\n",
    "    stp = [i.strip()for i in x]\n",
    "    for i in stp:\n",
    "        if(i.split()[0]== currcy):\n",
    "            rst = float(i.split()[1])*amnt\n",
    "            return rst\n",
    "print(curconv(\"EUR\",100))\n",
    "print(curconv(\"JPY\",100))"
   ]
  },
  {
   "cell_type": "markdown",
   "id": "4afc2a3e",
   "metadata": {},
   "source": [
    "# Question 9\n",
    "Each of the following will cause an exception (an error). Identify what type of \n",
    "exception each will cause.  \n",
    "Trying to add incompatible variables, as in \n",
    "adding 6 + ‘a’  \n",
    "Referring to the 12th item of a list that has only 10 \n",
    "items  \n",
    "Using a value that is out of range for a function’s \n",
    "input, such as calling math.sqrt(-1.0)  \n",
    "Using an undeclared variable, such as print(x)\n",
    "when x has not been defined   \n",
    "Trying to open a file that does not exist, such as \n",
    "mistyping the file name or looking in the wrong \n",
    "directory."
   ]
  },
  {
   "cell_type": "code",
   "execution_count": 8,
   "id": "bfe42fa4",
   "metadata": {},
   "outputs": [
    {
     "ename": "TypeError",
     "evalue": "unsupported operand type(s) for +: 'int' and 'str'",
     "output_type": "error",
     "traceback": [
      "\u001b[1;31m---------------------------------------------------------------------------\u001b[0m",
      "\u001b[1;31mTypeError\u001b[0m                                 Traceback (most recent call last)",
      "Cell \u001b[1;32mIn[8], line 3\u001b[0m\n\u001b[0;32m      1\u001b[0m \u001b[38;5;66;03m#1\u001b[39;00m\n\u001b[1;32m----> 3\u001b[0m \u001b[38;5;28mprint\u001b[39m(\u001b[38;5;241m6\u001b[39m \u001b[38;5;241m+\u001b[39m \u001b[38;5;124m'\u001b[39m\u001b[38;5;124ma\u001b[39m\u001b[38;5;124m'\u001b[39m)\n",
      "\u001b[1;31mTypeError\u001b[0m: unsupported operand type(s) for +: 'int' and 'str'"
     ]
    }
   ],
   "source": [
    "#1\n",
    "\n",
    "print(6 + 'a')\n"
   ]
  },
  {
   "cell_type": "code",
   "execution_count": 4,
   "id": "fa59849c",
   "metadata": {},
   "outputs": [
    {
     "ename": "IndexError",
     "evalue": "list index out of range",
     "output_type": "error",
     "traceback": [
      "\u001b[1;31m---------------------------------------------------------------------------\u001b[0m",
      "\u001b[1;31mIndexError\u001b[0m                                Traceback (most recent call last)",
      "Cell \u001b[1;32mIn[4], line 3\u001b[0m\n\u001b[0;32m      1\u001b[0m \u001b[38;5;66;03m#2\u001b[39;00m\n\u001b[0;32m      2\u001b[0m Lst \u001b[38;5;241m=\u001b[39m [\u001b[38;5;241m1\u001b[39m,\u001b[38;5;241m2\u001b[39m,\u001b[38;5;241m3\u001b[39m,\u001b[38;5;241m4\u001b[39m,\u001b[38;5;241m5\u001b[39m,\u001b[38;5;241m6\u001b[39m,\u001b[38;5;241m7\u001b[39m,\u001b[38;5;241m8\u001b[39m,\u001b[38;5;241m9\u001b[39m,\u001b[38;5;241m10\u001b[39m]\n\u001b[1;32m----> 3\u001b[0m \u001b[38;5;28mprint\u001b[39m(Lst[\u001b[38;5;241m12\u001b[39m])\n",
      "\u001b[1;31mIndexError\u001b[0m: list index out of range"
     ]
    }
   ],
   "source": [
    "#2\n",
    "Lst = [1,2,3,4,5,6,7,8,9,10]\n",
    "print(Lst[12])"
   ]
  },
  {
   "cell_type": "code",
   "execution_count": 5,
   "id": "3aae0328",
   "metadata": {},
   "outputs": [
    {
     "ename": "ValueError",
     "evalue": "math domain error",
     "output_type": "error",
     "traceback": [
      "\u001b[1;31m---------------------------------------------------------------------------\u001b[0m",
      "\u001b[1;31mValueError\u001b[0m                                Traceback (most recent call last)",
      "Cell \u001b[1;32mIn[5], line 3\u001b[0m\n\u001b[0;32m      1\u001b[0m \u001b[38;5;66;03m#3\u001b[39;00m\n\u001b[0;32m      2\u001b[0m \u001b[38;5;28;01mimport\u001b[39;00m \u001b[38;5;21;01mmath\u001b[39;00m\n\u001b[1;32m----> 3\u001b[0m \u001b[38;5;28mprint\u001b[39m(math\u001b[38;5;241m.\u001b[39msqrt(\u001b[38;5;241m-\u001b[39m\u001b[38;5;241m1.0\u001b[39m))\n",
      "\u001b[1;31mValueError\u001b[0m: math domain error"
     ]
    }
   ],
   "source": [
    "#3\n",
    "import math\n",
    "print(math.sqrt(-1.0))\n"
   ]
  },
  {
   "cell_type": "code",
   "execution_count": 6,
   "id": "8fd9a2a3",
   "metadata": {},
   "outputs": [
    {
     "ename": "NameError",
     "evalue": "name 'a' is not defined",
     "output_type": "error",
     "traceback": [
      "\u001b[1;31m---------------------------------------------------------------------------\u001b[0m",
      "\u001b[1;31mNameError\u001b[0m                                 Traceback (most recent call last)",
      "Cell \u001b[1;32mIn[6], line 2\u001b[0m\n\u001b[0;32m      1\u001b[0m \u001b[38;5;66;03m#4\u001b[39;00m\n\u001b[1;32m----> 2\u001b[0m \u001b[38;5;28mprint\u001b[39m(a)\n",
      "\u001b[1;31mNameError\u001b[0m: name 'a' is not defined"
     ]
    }
   ],
   "source": [
    "#4\n",
    "print(a)\n"
   ]
  },
  {
   "cell_type": "code",
   "execution_count": 7,
   "id": "c792425a",
   "metadata": {},
   "outputs": [
    {
     "ename": "FileNotFoundError",
     "evalue": "[Errno 2] No such file or directory: 'wrongfile.txt'",
     "output_type": "error",
     "traceback": [
      "\u001b[1;31m---------------------------------------------------------------------------\u001b[0m",
      "\u001b[1;31mFileNotFoundError\u001b[0m                         Traceback (most recent call last)",
      "Cell \u001b[1;32mIn[7], line 2\u001b[0m\n\u001b[0;32m      1\u001b[0m \u001b[38;5;66;03m#5\u001b[39;00m\n\u001b[1;32m----> 2\u001b[0m f \u001b[38;5;241m=\u001b[39m \u001b[38;5;28mopen\u001b[39m(\u001b[38;5;124m'\u001b[39m\u001b[38;5;124mwrongfile.txt\u001b[39m\u001b[38;5;124m'\u001b[39m)\n",
      "File \u001b[1;32m~\\anaconda3\\Lib\\site-packages\\IPython\\core\\interactiveshell.py:284\u001b[0m, in \u001b[0;36m_modified_open\u001b[1;34m(file, *args, **kwargs)\u001b[0m\n\u001b[0;32m    277\u001b[0m \u001b[38;5;28;01mif\u001b[39;00m file \u001b[38;5;129;01min\u001b[39;00m {\u001b[38;5;241m0\u001b[39m, \u001b[38;5;241m1\u001b[39m, \u001b[38;5;241m2\u001b[39m}:\n\u001b[0;32m    278\u001b[0m     \u001b[38;5;28;01mraise\u001b[39;00m \u001b[38;5;167;01mValueError\u001b[39;00m(\n\u001b[0;32m    279\u001b[0m         \u001b[38;5;124mf\u001b[39m\u001b[38;5;124m\"\u001b[39m\u001b[38;5;124mIPython won\u001b[39m\u001b[38;5;124m'\u001b[39m\u001b[38;5;124mt let you open fd=\u001b[39m\u001b[38;5;132;01m{\u001b[39;00mfile\u001b[38;5;132;01m}\u001b[39;00m\u001b[38;5;124m by default \u001b[39m\u001b[38;5;124m\"\u001b[39m\n\u001b[0;32m    280\u001b[0m         \u001b[38;5;124m\"\u001b[39m\u001b[38;5;124mas it is likely to crash IPython. If you know what you are doing, \u001b[39m\u001b[38;5;124m\"\u001b[39m\n\u001b[0;32m    281\u001b[0m         \u001b[38;5;124m\"\u001b[39m\u001b[38;5;124myou can use builtins\u001b[39m\u001b[38;5;124m'\u001b[39m\u001b[38;5;124m open.\u001b[39m\u001b[38;5;124m\"\u001b[39m\n\u001b[0;32m    282\u001b[0m     )\n\u001b[1;32m--> 284\u001b[0m \u001b[38;5;28;01mreturn\u001b[39;00m io_open(file, \u001b[38;5;241m*\u001b[39margs, \u001b[38;5;241m*\u001b[39m\u001b[38;5;241m*\u001b[39mkwargs)\n",
      "\u001b[1;31mFileNotFoundError\u001b[0m: [Errno 2] No such file or directory: 'wrongfile.txt'"
     ]
    }
   ],
   "source": [
    "\n",
    "#5\n",
    "f = open('wrongfile.txt')"
   ]
  },
  {
   "cell_type": "markdown",
   "id": "5928584a",
   "metadata": {},
   "source": [
    "# Question 10\n",
    "Encryption is the process of hiding the meaning of a text by substituting letters in the \n",
    "message with other letters, according to some system. If the process is successful, no \n",
    "one but the intended recipient can understand the encrypted message. Cryptanalysis\n",
    "refers to attempts to undo the encryption, even if some details of the encryption are \n",
    "unknown (for example, if an encrypted message has been intercepted). The first step \n",
    "of cryptanalysis is often to build up a table of letter frequencies in the encrypted text. \n",
    "Assume that the string letters is already defined as \n",
    "'abcdefghijklmnopqrstuvwxyz'. Write a function called frequencies()\n",
    "that takes a string as its only parameter, and returns a list of integers, showing the \n",
    "number of times each character appears in the text. Your function may ignore any \n",
    "characters that are not in letters. \n",
    "#### >>> frequencies('The quick red fox got bored and went home.')\n",
    "[1, 1, 1, 3, 5, 1, 1, 2, 1, 0, 1, 0, 1, 2, 4, 0, 1, 2, 0, 2, \n",
    "1, 0, 1, 1, 0, 0]\n",
    "#### >>> frequencies('apple')"
   ]
  },
  {
   "cell_type": "code",
   "execution_count": 18,
   "id": "b8923508",
   "metadata": {},
   "outputs": [
    {
     "name": "stdout",
     "output_type": "stream",
     "text": [
      "[1, 1, 1, 3, 5, 1, 1, 2, 1, 0, 1, 0, 1, 2, 4, 0, 1, 2, 0, 2, 1, 0, 1, 1, 0, 0]\n",
      "[1, 0, 0, 0, 1, 0, 0, 0, 0, 0, 0, 1, 0, 0, 0, 2, 0, 0, 0, 0, 0, 0, 0, 0, 0, 0]\n"
     ]
    }
   ],
   "source": [
    "x = 'abcdefghijklmnopqrstuvwxyz'\n",
    "y = list(x)\n",
    "def frequencies(string):\n",
    "    frq = []\n",
    "    for i in x:\n",
    "        frq.append(string.count(i))\n",
    "    print(frq)  \n",
    "    \n",
    "frequencies('The quick red fox got bored and went home.')\n",
    "frequencies('apple')"
   ]
  }
 ],
 "metadata": {
  "kernelspec": {
   "display_name": "Python 3 (ipykernel)",
   "language": "python",
   "name": "python3"
  },
  "language_info": {
   "codemirror_mode": {
    "name": "ipython",
    "version": 3
   },
   "file_extension": ".py",
   "mimetype": "text/x-python",
   "name": "python",
   "nbconvert_exporter": "python",
   "pygments_lexer": "ipython3",
   "version": "3.11.4"
  }
 },
 "nbformat": 4,
 "nbformat_minor": 5
}
